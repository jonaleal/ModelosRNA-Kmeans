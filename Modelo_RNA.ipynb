{
  "nbformat": 4,
  "nbformat_minor": 0,
  "metadata": {
    "colab": {
      "provenance": [],
      "include_colab_link": true
    },
    "kernelspec": {
      "name": "python3",
      "display_name": "Python 3"
    },
    "language_info": {
      "name": "python"
    }
  },
  "cells": [
    {
      "cell_type": "markdown",
      "metadata": {
        "id": "view-in-github",
        "colab_type": "text"
      },
      "source": [
        "<a href=\"https://colab.research.google.com/github/jonaleal/ModelosRNA-Kmeans/blob/main/Modelo_RNA.ipynb\" target=\"_parent\"><img src=\"https://colab.research.google.com/assets/colab-badge.svg\" alt=\"Open In Colab\"/></a>"
      ]
    },
    {
      "cell_type": "code",
      "execution_count": null,
      "metadata": {
        "id": "zmXX4XXeQL-X"
      },
      "outputs": [],
      "source": [
        "from sklearn.datasets import make_blobs\n",
        "from sklearn.model_selection import train_test_split\n",
        "from sklearn.neural_network import MLPClassifier\n",
        "from sklearn.preprocessing import StandardScaler\n",
        "from sklearn.metrics import classification_report, confusion_matrix\n",
        "from sklearn.model_selection import GridSearchCV\n",
        "import matplotlib.pyplot as plt\n",
        "import numpy as np\n",
        "from sklearn.metrics import accuracy_score"
      ]
    },
    {
      "cell_type": "code",
      "source": [
        "X, y = make_blobs(\n",
        "        n_samples    = 500,\n",
        "        n_features   = 2,\n",
        "        centers      = 3,\n",
        "        cluster_std  = 1.2,\n",
        "        shuffle      = True,\n",
        "        random_state = 0\n",
        "       )\n",
        "\n",
        "#Divición de datos\n",
        "X_train, X_test, y_train, y_test = train_test_split(X, y, test_size=0.3, random_state=0)\n",
        "\n",
        "# Crear un modelo de red neuronal\n",
        "modelo = MLPClassifier(random_state=0,)\n",
        "parameters = {'hidden_layer_sizes': [(5,), (10,), (15,), (5, 5), (10, 10), (15, 15), (5, 5, 5), (10, 10, 10), (15, 15, 15)],\n",
        "              'activation': ['logistic'],\n",
        "              'solver': ['sgd'],\n",
        "              'max_iter': [2500]}\n",
        "\n",
        "# Configurar GridSearchCV\n",
        "grid_search = GridSearchCV(modelo, parameters, cv=5)\n",
        "\n",
        "# Entrenar el modelo\n",
        "grid_search.fit(X_train, y_train)"
      ],
      "metadata": {
        "colab": {
          "base_uri": "https://localhost:8080/",
          "height": 116
        },
        "id": "DD_I6acpQS5T",
        "outputId": "97ba5798-ab9a-4bbf-b0e1-a0ee84d3e230"
      },
      "execution_count": null,
      "outputs": [
        {
          "output_type": "execute_result",
          "data": {
            "text/plain": [
              "GridSearchCV(cv=5, estimator=MLPClassifier(random_state=0),\n",
              "             param_grid={'activation': ['logistic'],\n",
              "                         'hidden_layer_sizes': [(5,), (10,), (15,), (5, 5),\n",
              "                                                (10, 10), (15, 15), (5, 5, 5),\n",
              "                                                (10, 10, 10), (15, 15, 15)],\n",
              "                         'max_iter': [2500], 'solver': ['sgd']})"
            ],
            "text/html": [
              "<style>#sk-container-id-4 {color: black;background-color: white;}#sk-container-id-4 pre{padding: 0;}#sk-container-id-4 div.sk-toggleable {background-color: white;}#sk-container-id-4 label.sk-toggleable__label {cursor: pointer;display: block;width: 100%;margin-bottom: 0;padding: 0.3em;box-sizing: border-box;text-align: center;}#sk-container-id-4 label.sk-toggleable__label-arrow:before {content: \"▸\";float: left;margin-right: 0.25em;color: #696969;}#sk-container-id-4 label.sk-toggleable__label-arrow:hover:before {color: black;}#sk-container-id-4 div.sk-estimator:hover label.sk-toggleable__label-arrow:before {color: black;}#sk-container-id-4 div.sk-toggleable__content {max-height: 0;max-width: 0;overflow: hidden;text-align: left;background-color: #f0f8ff;}#sk-container-id-4 div.sk-toggleable__content pre {margin: 0.2em;color: black;border-radius: 0.25em;background-color: #f0f8ff;}#sk-container-id-4 input.sk-toggleable__control:checked~div.sk-toggleable__content {max-height: 200px;max-width: 100%;overflow: auto;}#sk-container-id-4 input.sk-toggleable__control:checked~label.sk-toggleable__label-arrow:before {content: \"▾\";}#sk-container-id-4 div.sk-estimator input.sk-toggleable__control:checked~label.sk-toggleable__label {background-color: #d4ebff;}#sk-container-id-4 div.sk-label input.sk-toggleable__control:checked~label.sk-toggleable__label {background-color: #d4ebff;}#sk-container-id-4 input.sk-hidden--visually {border: 0;clip: rect(1px 1px 1px 1px);clip: rect(1px, 1px, 1px, 1px);height: 1px;margin: -1px;overflow: hidden;padding: 0;position: absolute;width: 1px;}#sk-container-id-4 div.sk-estimator {font-family: monospace;background-color: #f0f8ff;border: 1px dotted black;border-radius: 0.25em;box-sizing: border-box;margin-bottom: 0.5em;}#sk-container-id-4 div.sk-estimator:hover {background-color: #d4ebff;}#sk-container-id-4 div.sk-parallel-item::after {content: \"\";width: 100%;border-bottom: 1px solid gray;flex-grow: 1;}#sk-container-id-4 div.sk-label:hover label.sk-toggleable__label {background-color: #d4ebff;}#sk-container-id-4 div.sk-serial::before {content: \"\";position: absolute;border-left: 1px solid gray;box-sizing: border-box;top: 0;bottom: 0;left: 50%;z-index: 0;}#sk-container-id-4 div.sk-serial {display: flex;flex-direction: column;align-items: center;background-color: white;padding-right: 0.2em;padding-left: 0.2em;position: relative;}#sk-container-id-4 div.sk-item {position: relative;z-index: 1;}#sk-container-id-4 div.sk-parallel {display: flex;align-items: stretch;justify-content: center;background-color: white;position: relative;}#sk-container-id-4 div.sk-item::before, #sk-container-id-4 div.sk-parallel-item::before {content: \"\";position: absolute;border-left: 1px solid gray;box-sizing: border-box;top: 0;bottom: 0;left: 50%;z-index: -1;}#sk-container-id-4 div.sk-parallel-item {display: flex;flex-direction: column;z-index: 1;position: relative;background-color: white;}#sk-container-id-4 div.sk-parallel-item:first-child::after {align-self: flex-end;width: 50%;}#sk-container-id-4 div.sk-parallel-item:last-child::after {align-self: flex-start;width: 50%;}#sk-container-id-4 div.sk-parallel-item:only-child::after {width: 0;}#sk-container-id-4 div.sk-dashed-wrapped {border: 1px dashed gray;margin: 0 0.4em 0.5em 0.4em;box-sizing: border-box;padding-bottom: 0.4em;background-color: white;}#sk-container-id-4 div.sk-label label {font-family: monospace;font-weight: bold;display: inline-block;line-height: 1.2em;}#sk-container-id-4 div.sk-label-container {text-align: center;}#sk-container-id-4 div.sk-container {/* jupyter's `normalize.less` sets `[hidden] { display: none; }` but bootstrap.min.css set `[hidden] { display: none !important; }` so we also need the `!important` here to be able to override the default hidden behavior on the sphinx rendered scikit-learn.org. See: https://github.com/scikit-learn/scikit-learn/issues/21755 */display: inline-block !important;position: relative;}#sk-container-id-4 div.sk-text-repr-fallback {display: none;}</style><div id=\"sk-container-id-4\" class=\"sk-top-container\"><div class=\"sk-text-repr-fallback\"><pre>GridSearchCV(cv=5, estimator=MLPClassifier(random_state=0),\n",
              "             param_grid={&#x27;activation&#x27;: [&#x27;logistic&#x27;],\n",
              "                         &#x27;hidden_layer_sizes&#x27;: [(5,), (10,), (15,), (5, 5),\n",
              "                                                (10, 10), (15, 15), (5, 5, 5),\n",
              "                                                (10, 10, 10), (15, 15, 15)],\n",
              "                         &#x27;max_iter&#x27;: [2500], &#x27;solver&#x27;: [&#x27;sgd&#x27;]})</pre><b>In a Jupyter environment, please rerun this cell to show the HTML representation or trust the notebook. <br />On GitHub, the HTML representation is unable to render, please try loading this page with nbviewer.org.</b></div><div class=\"sk-container\" hidden><div class=\"sk-item sk-dashed-wrapped\"><div class=\"sk-label-container\"><div class=\"sk-label sk-toggleable\"><input class=\"sk-toggleable__control sk-hidden--visually\" id=\"sk-estimator-id-10\" type=\"checkbox\" ><label for=\"sk-estimator-id-10\" class=\"sk-toggleable__label sk-toggleable__label-arrow\">GridSearchCV</label><div class=\"sk-toggleable__content\"><pre>GridSearchCV(cv=5, estimator=MLPClassifier(random_state=0),\n",
              "             param_grid={&#x27;activation&#x27;: [&#x27;logistic&#x27;],\n",
              "                         &#x27;hidden_layer_sizes&#x27;: [(5,), (10,), (15,), (5, 5),\n",
              "                                                (10, 10), (15, 15), (5, 5, 5),\n",
              "                                                (10, 10, 10), (15, 15, 15)],\n",
              "                         &#x27;max_iter&#x27;: [2500], &#x27;solver&#x27;: [&#x27;sgd&#x27;]})</pre></div></div></div><div class=\"sk-parallel\"><div class=\"sk-parallel-item\"><div class=\"sk-item\"><div class=\"sk-label-container\"><div class=\"sk-label sk-toggleable\"><input class=\"sk-toggleable__control sk-hidden--visually\" id=\"sk-estimator-id-11\" type=\"checkbox\" ><label for=\"sk-estimator-id-11\" class=\"sk-toggleable__label sk-toggleable__label-arrow\">estimator: MLPClassifier</label><div class=\"sk-toggleable__content\"><pre>MLPClassifier(random_state=0)</pre></div></div></div><div class=\"sk-serial\"><div class=\"sk-item\"><div class=\"sk-estimator sk-toggleable\"><input class=\"sk-toggleable__control sk-hidden--visually\" id=\"sk-estimator-id-12\" type=\"checkbox\" ><label for=\"sk-estimator-id-12\" class=\"sk-toggleable__label sk-toggleable__label-arrow\">MLPClassifier</label><div class=\"sk-toggleable__content\"><pre>MLPClassifier(random_state=0)</pre></div></div></div></div></div></div></div></div></div></div>"
            ]
          },
          "metadata": {},
          "execution_count": 17
        }
      ]
    },
    {
      "cell_type": "code",
      "source": [
        "# Obtener los resultados de la búsqueda de GridSearch\n",
        "results = grid_search.cv_results_\n",
        "params = results['params']\n",
        "mean_test_score = results['mean_test_score']\n",
        "\n",
        "#Extraer la cantidad de neuronas de las configuraciones\n",
        "neuron_counts = [param['hidden_layer_sizes'] if isinstance(param['hidden_layer_sizes'], tuple) else (param['hidden_layer_sizes'],) for param in params]\n",
        "\n",
        "#Imprimir la precisión promedio para cada configuración de neuronas\n",
        "print(\"Precisión promedio para cada configuración de neuronas:\")\n",
        "for neurons, score in zip(neuron_counts, mean_test_score):\n",
        "    print(f\"Neuronas: {neurons}, Precisión: {score:.4f}\")\n"
      ],
      "metadata": {
        "colab": {
          "base_uri": "https://localhost:8080/"
        },
        "id": "YfwtljXUXi4d",
        "outputId": "572e951b-4219-4444-f7e8-455a15a4a6df"
      },
      "execution_count": null,
      "outputs": [
        {
          "output_type": "stream",
          "name": "stdout",
          "text": [
            "Precisión promedio para cada configuración de neuronas:\n",
            "Neuronas: (5,), Precisión: 0.860\n",
            "Neuronas: (10,), Precisión: 0.874\n",
            "Neuronas: (15,), Precisión: 0.877\n",
            "Neuronas: (5, 5), Precisión: 0.217\n",
            "Neuronas: (10, 10), Precisión: 0.174\n",
            "Neuronas: (15, 15), Precisión: 0.346\n",
            "Neuronas: (5, 5, 5), Precisión: 0.366\n",
            "Neuronas: (10, 10, 10), Precisión: 0.346\n",
            "Neuronas: (15, 15, 15), Precisión: 0.346\n"
          ]
        }
      ]
    },
    {
      "cell_type": "code",
      "source": [
        "print(\"Mejor combinación de hiperparámetros:\", grid_search.best_params_)\n",
        "print(\"Mejor puntuación de validación cruzada:\", grid_search.best_score_)"
      ],
      "metadata": {
        "colab": {
          "base_uri": "https://localhost:8080/"
        },
        "id": "nDOCceYqYWLF",
        "outputId": "d5748ce0-89e8-42ba-d428-584224a40704"
      },
      "execution_count": null,
      "outputs": [
        {
          "output_type": "stream",
          "name": "stdout",
          "text": [
            "Mejor combinación de hiperparámetros: {'activation': 'logistic', 'hidden_layer_sizes': (15,), 'max_iter': 2500, 'solver': 'sgd'}\n",
            "Mejor puntuación de validación cruzada: 0.8771428571428572\n"
          ]
        }
      ]
    },
    {
      "cell_type": "markdown",
      "source": [
        "Aunque el mejor Modelo para Grid Search sea el que tiene 1 capa y 15 neuronas, Para nosotros el mejor modelo sería el de 1 capa y 10 neuronas puesto que es más simple pero entrega un resultado con muy poca diferentecia de precision tan solo 0.003."
      ],
      "metadata": {
        "id": "aBkFvFJeflZg"
      }
    },
    {
      "cell_type": "code",
      "source": [
        "#Volver a Entrenar con el modelo elegido\n",
        "hyperparameters = {'activation': 'logistic', 'hidden_layer_sizes': (10,), 'max_iter': 2500, 'solver': 'sgd'}\n",
        "\n",
        "# Crear un nuevo modelo con los hiperparámetros especificados\n",
        "specific_model = MLPClassifier(**hyperparameters)\n",
        "\n",
        "# Entrenar el modelo con tus datos de entrenamiento\n",
        "specific_model.fit(X_train, y_train)\n",
        "\n",
        "# Hacer predicciones con el modelo\n",
        "predictions_specific = specific_model.predict(X_test)\n",
        "\n",
        "# Calcular la precisión del modelo\n",
        "accuracy_specific = accuracy_score(y_test, predictions_specific)\n",
        "print(f\"Precisión del modelo específico: {accuracy_specific:.4f}\")"
      ],
      "metadata": {
        "colab": {
          "base_uri": "https://localhost:8080/"
        },
        "id": "BQx98lRRV4yV",
        "outputId": "22ab31de-c1ec-48b1-b8a1-f878e89c8066"
      },
      "execution_count": null,
      "outputs": [
        {
          "output_type": "stream",
          "name": "stdout",
          "text": [
            "Precisión del modelo específico: 0.8667\n"
          ]
        }
      ]
    },
    {
      "cell_type": "markdown",
      "source": [
        "Podemos ver que la Precisión del modelo a la hora de testear es 0.8667 mientras que en el entrenamiento fue 0.874, la diferencia es muy poco y en este caso es menor a la de entrenamiento lo que significa que el modelo no esta sobreajustado"
      ],
      "metadata": {
        "id": "-s_1J3UHgZGJ"
      }
    }
  ]
}