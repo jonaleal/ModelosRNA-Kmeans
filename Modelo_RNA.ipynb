{
  "nbformat": 4,
  "nbformat_minor": 0,
  "metadata": {
    "colab": {
      "provenance": [],
      "include_colab_link": true
    },
    "kernelspec": {
      "name": "python3",
      "display_name": "Python 3"
    },
    "language_info": {
      "name": "python"
    }
  },
  "cells": [
    {
      "cell_type": "markdown",
      "metadata": {
        "id": "view-in-github",
        "colab_type": "text"
      },
      "source": [
        "<a href=\"https://colab.research.google.com/github/jonaleal/ModelosRNA-Kmeans/blob/main/Modelo_RNA.ipynb\" target=\"_parent\"><img src=\"https://colab.research.google.com/assets/colab-badge.svg\" alt=\"Open In Colab\"/></a>"
      ]
    },
    {
      "cell_type": "code",
      "execution_count": null,
      "metadata": {
        "id": "zmXX4XXeQL-X"
      },
      "outputs": [],
      "source": [
        "from sklearn.datasets import make_blobs\n",
        "from sklearn.model_selection import train_test_split\n",
        "from sklearn.neural_network import MLPClassifier\n",
        "from sklearn.preprocessing import StandardScaler\n",
        "from sklearn.metrics import classification_report, confusion_matrix\n",
        "from sklearn.model_selection import GridSearchCV\n",
        "import matplotlib.pyplot as plt\n",
        "import numpy as np\n",
        "from sklearn.metrics import accuracy_score"
      ]
    },
    {
      "cell_type": "markdown",
      "source": [
        "#MODELO RNA"
      ],
      "metadata": {
        "id": "HFf2YvbQh5xn"
      }
    },
    {
      "cell_type": "code",
      "source": [
        "X, y = make_blobs(\n",
        "        n_samples    = 500,\n",
        "        n_features   = 2,\n",
        "        centers      = 3,\n",
        "        cluster_std  = 1.2,\n",
        "        shuffle      = True,\n",
        "        random_state = 0\n",
        "       )\n",
        "\n",
        "#Divición de datos\n",
        "X_train, X_test, y_train, y_test = train_test_split(X, y, test_size=0.3, random_state=0)\n",
        "\n",
        "# Crear un modelo de red neuronal\n",
        "modelo = MLPClassifier(random_state=0,)\n",
        "parameters = {'hidden_layer_sizes': [(5,), (10,), (15,), (5, 5), (10, 10), (15, 15), (5, 5, 5), (10, 10, 10), (15, 15, 15)],\n",
        "              'activation': ['logistic'],\n",
        "              'solver': ['sgd'],\n",
        "              'max_iter': [2500]}\n",
        "\n",
        "# Configurar GridSearchCV\n",
        "grid_search = GridSearchCV(modelo, parameters, cv=5)\n",
        "\n",
        "# Entrenar el modelo\n",
        "grid_search.fit(X_train, y_train)"
      ],
      "metadata": {
        "colab": {
          "base_uri": "https://localhost:8080/",
          "height": 116
        },
        "id": "DD_I6acpQS5T",
        "outputId": "97ba5798-ab9a-4bbf-b0e1-a0ee84d3e230"
      },
      "execution_count": null,
      "outputs": [
        {
          "output_type": "execute_result",
          "data": {
            "text/plain": [
              "GridSearchCV(cv=5, estimator=MLPClassifier(random_state=0),\n",
              "             param_grid={'activation': ['logistic'],\n",
              "                         'hidden_layer_sizes': [(5,), (10,), (15,), (5, 5),\n",
              "                                                (10, 10), (15, 15), (5, 5, 5),\n",
              "                                                (10, 10, 10), (15, 15, 15)],\n",
              "                         'max_iter': [2500], 'solver': ['sgd']})"
            ],
            "text/html": [
              "<style>#sk-container-id-4 {color: black;background-color: white;}#sk-container-id-4 pre{padding: 0;}#sk-container-id-4 div.sk-toggleable {background-color: white;}#sk-container-id-4 label.sk-toggleable__label {cursor: pointer;display: block;width: 100%;margin-bottom: 0;padding: 0.3em;box-sizing: border-box;text-align: center;}#sk-container-id-4 label.sk-toggleable__label-arrow:before {content: \"▸\";float: left;margin-right: 0.25em;color: #696969;}#sk-container-id-4 label.sk-toggleable__label-arrow:hover:before {color: black;}#sk-container-id-4 div.sk-estimator:hover label.sk-toggleable__label-arrow:before {color: black;}#sk-container-id-4 div.sk-toggleable__content {max-height: 0;max-width: 0;overflow: hidden;text-align: left;background-color: #f0f8ff;}#sk-container-id-4 div.sk-toggleable__content pre {margin: 0.2em;color: black;border-radius: 0.25em;background-color: #f0f8ff;}#sk-container-id-4 input.sk-toggleable__control:checked~div.sk-toggleable__content {max-height: 200px;max-width: 100%;overflow: auto;}#sk-container-id-4 input.sk-toggleable__control:checked~label.sk-toggleable__label-arrow:before {content: \"▾\";}#sk-container-id-4 div.sk-estimator input.sk-toggleable__control:checked~label.sk-toggleable__label {background-color: #d4ebff;}#sk-container-id-4 div.sk-label input.sk-toggleable__control:checked~label.sk-toggleable__label {background-color: #d4ebff;}#sk-container-id-4 input.sk-hidden--visually {border: 0;clip: rect(1px 1px 1px 1px);clip: rect(1px, 1px, 1px, 1px);height: 1px;margin: -1px;overflow: hidden;padding: 0;position: absolute;width: 1px;}#sk-container-id-4 div.sk-estimator {font-family: monospace;background-color: #f0f8ff;border: 1px dotted black;border-radius: 0.25em;box-sizing: border-box;margin-bottom: 0.5em;}#sk-container-id-4 div.sk-estimator:hover {background-color: #d4ebff;}#sk-container-id-4 div.sk-parallel-item::after {content: \"\";width: 100%;border-bottom: 1px solid gray;flex-grow: 1;}#sk-container-id-4 div.sk-label:hover label.sk-toggleable__label {background-color: #d4ebff;}#sk-container-id-4 div.sk-serial::before {content: \"\";position: absolute;border-left: 1px solid gray;box-sizing: border-box;top: 0;bottom: 0;left: 50%;z-index: 0;}#sk-container-id-4 div.sk-serial {display: flex;flex-direction: column;align-items: center;background-color: white;padding-right: 0.2em;padding-left: 0.2em;position: relative;}#sk-container-id-4 div.sk-item {position: relative;z-index: 1;}#sk-container-id-4 div.sk-parallel {display: flex;align-items: stretch;justify-content: center;background-color: white;position: relative;}#sk-container-id-4 div.sk-item::before, #sk-container-id-4 div.sk-parallel-item::before {content: \"\";position: absolute;border-left: 1px solid gray;box-sizing: border-box;top: 0;bottom: 0;left: 50%;z-index: -1;}#sk-container-id-4 div.sk-parallel-item {display: flex;flex-direction: column;z-index: 1;position: relative;background-color: white;}#sk-container-id-4 div.sk-parallel-item:first-child::after {align-self: flex-end;width: 50%;}#sk-container-id-4 div.sk-parallel-item:last-child::after {align-self: flex-start;width: 50%;}#sk-container-id-4 div.sk-parallel-item:only-child::after {width: 0;}#sk-container-id-4 div.sk-dashed-wrapped {border: 1px dashed gray;margin: 0 0.4em 0.5em 0.4em;box-sizing: border-box;padding-bottom: 0.4em;background-color: white;}#sk-container-id-4 div.sk-label label {font-family: monospace;font-weight: bold;display: inline-block;line-height: 1.2em;}#sk-container-id-4 div.sk-label-container {text-align: center;}#sk-container-id-4 div.sk-container {/* jupyter's `normalize.less` sets `[hidden] { display: none; }` but bootstrap.min.css set `[hidden] { display: none !important; }` so we also need the `!important` here to be able to override the default hidden behavior on the sphinx rendered scikit-learn.org. See: https://github.com/scikit-learn/scikit-learn/issues/21755 */display: inline-block !important;position: relative;}#sk-container-id-4 div.sk-text-repr-fallback {display: none;}</style><div id=\"sk-container-id-4\" class=\"sk-top-container\"><div class=\"sk-text-repr-fallback\"><pre>GridSearchCV(cv=5, estimator=MLPClassifier(random_state=0),\n",
              "             param_grid={&#x27;activation&#x27;: [&#x27;logistic&#x27;],\n",
              "                         &#x27;hidden_layer_sizes&#x27;: [(5,), (10,), (15,), (5, 5),\n",
              "                                                (10, 10), (15, 15), (5, 5, 5),\n",
              "                                                (10, 10, 10), (15, 15, 15)],\n",
              "                         &#x27;max_iter&#x27;: [2500], &#x27;solver&#x27;: [&#x27;sgd&#x27;]})</pre><b>In a Jupyter environment, please rerun this cell to show the HTML representation or trust the notebook. <br />On GitHub, the HTML representation is unable to render, please try loading this page with nbviewer.org.</b></div><div class=\"sk-container\" hidden><div class=\"sk-item sk-dashed-wrapped\"><div class=\"sk-label-container\"><div class=\"sk-label sk-toggleable\"><input class=\"sk-toggleable__control sk-hidden--visually\" id=\"sk-estimator-id-10\" type=\"checkbox\" ><label for=\"sk-estimator-id-10\" class=\"sk-toggleable__label sk-toggleable__label-arrow\">GridSearchCV</label><div class=\"sk-toggleable__content\"><pre>GridSearchCV(cv=5, estimator=MLPClassifier(random_state=0),\n",
              "             param_grid={&#x27;activation&#x27;: [&#x27;logistic&#x27;],\n",
              "                         &#x27;hidden_layer_sizes&#x27;: [(5,), (10,), (15,), (5, 5),\n",
              "                                                (10, 10), (15, 15), (5, 5, 5),\n",
              "                                                (10, 10, 10), (15, 15, 15)],\n",
              "                         &#x27;max_iter&#x27;: [2500], &#x27;solver&#x27;: [&#x27;sgd&#x27;]})</pre></div></div></div><div class=\"sk-parallel\"><div class=\"sk-parallel-item\"><div class=\"sk-item\"><div class=\"sk-label-container\"><div class=\"sk-label sk-toggleable\"><input class=\"sk-toggleable__control sk-hidden--visually\" id=\"sk-estimator-id-11\" type=\"checkbox\" ><label for=\"sk-estimator-id-11\" class=\"sk-toggleable__label sk-toggleable__label-arrow\">estimator: MLPClassifier</label><div class=\"sk-toggleable__content\"><pre>MLPClassifier(random_state=0)</pre></div></div></div><div class=\"sk-serial\"><div class=\"sk-item\"><div class=\"sk-estimator sk-toggleable\"><input class=\"sk-toggleable__control sk-hidden--visually\" id=\"sk-estimator-id-12\" type=\"checkbox\" ><label for=\"sk-estimator-id-12\" class=\"sk-toggleable__label sk-toggleable__label-arrow\">MLPClassifier</label><div class=\"sk-toggleable__content\"><pre>MLPClassifier(random_state=0)</pre></div></div></div></div></div></div></div></div></div></div>"
            ]
          },
          "metadata": {},
          "execution_count": 17
        }
      ]
    },
    {
      "cell_type": "code",
      "source": [
        "print(results)"
      ],
      "metadata": {
        "colab": {
          "base_uri": "https://localhost:8080/"
        },
        "id": "XZCfQeONjkzj",
        "outputId": "0c2f0c6c-d9e5-4e94-ca7a-011ba032e207"
      },
      "execution_count": null,
      "outputs": [
        {
          "output_type": "stream",
          "name": "stdout",
          "text": [
            "{'mean_fit_time': array([1.638166  , 1.51152959, 1.3629611 , 0.14371276, 0.08123059,\n",
            "       0.09661193, 0.09830885, 0.20892906, 0.12500563]), 'std_fit_time': array([0.76431635, 0.28914955, 0.46031748, 0.08227066, 0.00672677,\n",
            "       0.01083943, 0.00590349, 0.0115749 , 0.00573086]), 'mean_score_time': array([0.00125413, 0.00122309, 0.00111203, 0.00152874, 0.00102553,\n",
            "       0.00135298, 0.00202212, 0.00131226, 0.00134859]), 'std_score_time': array([4.19037549e-04, 3.38063589e-04, 2.34247068e-04, 8.83633267e-04,\n",
            "       1.45954674e-04, 2.61411785e-04, 7.17304579e-04, 4.24360960e-05,\n",
            "       3.86845735e-05]), 'param_activation': masked_array(data=['logistic', 'logistic', 'logistic', 'logistic',\n",
            "                   'logistic', 'logistic', 'logistic', 'logistic',\n",
            "                   'logistic'],\n",
            "             mask=[False, False, False, False, False, False, False, False,\n",
            "                   False],\n",
            "       fill_value='?',\n",
            "            dtype=object), 'param_hidden_layer_sizes': masked_array(data=[(5,), (10,), (15,), (5, 5), (10, 10), (15, 15),\n",
            "                   (5, 5, 5), (10, 10, 10), (15, 15, 15)],\n",
            "             mask=[False, False, False, False, False, False, False, False,\n",
            "                   False],\n",
            "       fill_value='?',\n",
            "            dtype=object), 'param_max_iter': masked_array(data=[2500, 2500, 2500, 2500, 2500, 2500, 2500, 2500, 2500],\n",
            "             mask=[False, False, False, False, False, False, False, False,\n",
            "                   False],\n",
            "       fill_value='?',\n",
            "            dtype=object), 'param_solver': masked_array(data=['sgd', 'sgd', 'sgd', 'sgd', 'sgd', 'sgd', 'sgd', 'sgd',\n",
            "                   'sgd'],\n",
            "             mask=[False, False, False, False, False, False, False, False,\n",
            "                   False],\n",
            "       fill_value='?',\n",
            "            dtype=object), 'params': [{'activation': 'logistic', 'hidden_layer_sizes': (5,), 'max_iter': 2500, 'solver': 'sgd'}, {'activation': 'logistic', 'hidden_layer_sizes': (10,), 'max_iter': 2500, 'solver': 'sgd'}, {'activation': 'logistic', 'hidden_layer_sizes': (15,), 'max_iter': 2500, 'solver': 'sgd'}, {'activation': 'logistic', 'hidden_layer_sizes': (5, 5), 'max_iter': 2500, 'solver': 'sgd'}, {'activation': 'logistic', 'hidden_layer_sizes': (10, 10), 'max_iter': 2500, 'solver': 'sgd'}, {'activation': 'logistic', 'hidden_layer_sizes': (15, 15), 'max_iter': 2500, 'solver': 'sgd'}, {'activation': 'logistic', 'hidden_layer_sizes': (5, 5, 5), 'max_iter': 2500, 'solver': 'sgd'}, {'activation': 'logistic', 'hidden_layer_sizes': (10, 10, 10), 'max_iter': 2500, 'solver': 'sgd'}, {'activation': 'logistic', 'hidden_layer_sizes': (15, 15, 15), 'max_iter': 2500, 'solver': 'sgd'}], 'split0_test_score': array([0.85714286, 0.85714286, 0.84285714, 0.22857143, 0.1       ,\n",
            "       0.35714286, 0.38571429, 0.35714286, 0.35714286]), 'split1_test_score': array([0.85714286, 0.87142857, 0.87142857, 0.17142857, 0.1       ,\n",
            "       0.34285714, 0.32857143, 0.34285714, 0.34285714]), 'split2_test_score': array([0.82857143, 0.84285714, 0.85714286, 0.28571429, 0.25714286,\n",
            "       0.34285714, 0.32857143, 0.34285714, 0.34285714]), 'split3_test_score': array([0.84285714, 0.88571429, 0.88571429, 0.18571429, 0.24285714,\n",
            "       0.34285714, 0.32857143, 0.34285714, 0.34285714]), 'split4_test_score': array([0.91428571, 0.91428571, 0.92857143, 0.21428571, 0.17142857,\n",
            "       0.34285714, 0.45714286, 0.34285714, 0.34285714]), 'mean_test_score': array([0.86      , 0.87428571, 0.87714286, 0.21714286, 0.17428571,\n",
            "       0.34571429, 0.36571429, 0.34571429, 0.34571429]), 'std_test_score': array([0.02913725, 0.02457807, 0.02941609, 0.0397954 , 0.06724916,\n",
            "       0.00571429, 0.05078968, 0.00571429, 0.00571429]), 'rank_test_score': array([3, 2, 1, 8, 9, 5, 4, 5, 5], dtype=int32)}\n"
          ]
        }
      ]
    },
    {
      "cell_type": "code",
      "source": [
        "# Obtener los resultados de la búsqueda de GridSearch\n",
        "results = grid_search.cv_results_\n",
        "params = results['params']\n",
        "mean_test_score = results['mean_test_score']\n",
        "std_test_score = results['std_test_score']\n",
        "\n",
        "#Extraer la cantidad de neuronas de las configuraciones\n",
        "neuron_counts = [param['hidden_layer_sizes'] if isinstance(param['hidden_layer_sizes'], tuple) else (param['hidden_layer_sizes'],) for param in params]\n",
        "\n",
        "#Imprimir la precisión promedio para cada configuración de neuronas\n",
        "print(\"Precisión promedio para cada configuración de neuronas:\")\n",
        "for neurons, score, std in zip(neuron_counts, mean_test_score, std_test_score):\n",
        "    print(f\"Neuronas: {neurons}, Precisión: {score:.4f}, Desviación: {std:.4f}\")\n"
      ],
      "metadata": {
        "colab": {
          "base_uri": "https://localhost:8080/"
        },
        "id": "YfwtljXUXi4d",
        "outputId": "08c31bf3-dc0e-44f3-9e37-353bb6729467"
      },
      "execution_count": null,
      "outputs": [
        {
          "output_type": "stream",
          "name": "stdout",
          "text": [
            "Precisión promedio para cada configuración de neuronas:\n",
            "Neuronas: (5,), Precisión: 0.8600, Desviación: 0.0291\n",
            "Neuronas: (10,), Precisión: 0.8743, Desviación: 0.0246\n",
            "Neuronas: (15,), Precisión: 0.8771, Desviación: 0.0294\n",
            "Neuronas: (5, 5), Precisión: 0.2171, Desviación: 0.0398\n",
            "Neuronas: (10, 10), Precisión: 0.1743, Desviación: 0.0672\n",
            "Neuronas: (15, 15), Precisión: 0.3457, Desviación: 0.0057\n",
            "Neuronas: (5, 5, 5), Precisión: 0.3657, Desviación: 0.0508\n",
            "Neuronas: (10, 10, 10), Precisión: 0.3457, Desviación: 0.0057\n",
            "Neuronas: (15, 15, 15), Precisión: 0.3457, Desviación: 0.0057\n"
          ]
        }
      ]
    },
    {
      "cell_type": "code",
      "source": [
        "print(\"Mejor combinación de hiperparámetros:\", grid_search.best_params_)\n",
        "print(\"Mejor puntuación de validación cruzada:\", grid_search.best_score_)"
      ],
      "metadata": {
        "colab": {
          "base_uri": "https://localhost:8080/"
        },
        "id": "nDOCceYqYWLF",
        "outputId": "d5748ce0-89e8-42ba-d428-584224a40704"
      },
      "execution_count": null,
      "outputs": [
        {
          "output_type": "stream",
          "name": "stdout",
          "text": [
            "Mejor combinación de hiperparámetros: {'activation': 'logistic', 'hidden_layer_sizes': (15,), 'max_iter': 2500, 'solver': 'sgd'}\n",
            "Mejor puntuación de validación cruzada: 0.8771428571428572\n"
          ]
        }
      ]
    },
    {
      "cell_type": "markdown",
      "source": [
        "Aunque el mejor Modelo para Grid Search sea el que tiene 1 capa y 15 neuronas, Para nosotros el mejor modelo sería el de 1 capa y 10 neuronas puesto que es más simple pero entrega un resultado con muy poca diferentecia de precision tan solo 0.003."
      ],
      "metadata": {
        "id": "aBkFvFJeflZg"
      }
    },
    {
      "cell_type": "code",
      "source": [
        "#Volver a Entrenar con el modelo elegido\n",
        "hyperparametros = {'activation': 'logistic', 'hidden_layer_sizes': (10,), 'max_iter': 2500, 'solver': 'sgd'}\n",
        "\n",
        "# Crear un nuevo modelo con los hiperparámetros especificados\n",
        "elegido = MLPClassifier(**hyperparametros)\n",
        "\n",
        "# Entrenar el modelo con tus datos de entrenamiento\n",
        "elegido.fit(X_train, y_train)\n",
        "\n",
        "# Hacer predicciones con el modelo\n",
        "prediccion_elegido = elegido.predict(X_test)\n",
        "\n",
        "# Calcular la precisión del modelo\n",
        "presicion = accuracy_score(y_test, prediccion_elegido)\n",
        "print(f\"Precisión del modelo específico: {presicion:.4f}\")"
      ],
      "metadata": {
        "colab": {
          "base_uri": "https://localhost:8080/"
        },
        "id": "BQx98lRRV4yV",
        "outputId": "1bef19a6-55dd-407b-ab0e-d2a03afdc304"
      },
      "execution_count": null,
      "outputs": [
        {
          "output_type": "stream",
          "name": "stdout",
          "text": [
            "Precisión del modelo específico: 0.8667\n"
          ]
        }
      ]
    },
    {
      "cell_type": "markdown",
      "source": [
        "Podemos ver que la Precisión del modelo a la hora de testear es 0.8667 mientras que en el entrenamiento fue 0.874, la diferencia es muy poco y en este caso es menor a la de entrenamiento lo que significa que el modelo no esta sobreajustado"
      ],
      "metadata": {
        "id": "-s_1J3UHgZGJ"
      }
    }
  ]
}